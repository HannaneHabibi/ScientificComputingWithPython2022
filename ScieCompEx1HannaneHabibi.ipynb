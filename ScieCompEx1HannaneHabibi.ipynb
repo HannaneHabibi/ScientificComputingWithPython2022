{
  "nbformat": 4,
  "nbformat_minor": 0,
  "metadata": {
    "colab": {
      "provenance": [],
      "collapsed_sections": [
        "v4gZ76DyvRdu",
        "FGvzpfZgwa6m"
      ],
      "authorship_tag": "ABX9TyPvglv60guZmMJUqVMDfhil"
    },
    "kernelspec": {
      "name": "python3",
      "display_name": "Python 3"
    },
    "language_info": {
      "name": "python"
    }
  },
  "cells": [
    {
      "cell_type": "markdown",
      "source": [
        "# **Exercise 1**"
      ],
      "metadata": {
        "id": "v4gZ76DyvRdu"
      }
    },
    {
      "cell_type": "markdown",
      "source": [
        "a)"
      ],
      "metadata": {
        "id": "AH-CqdYUwB9l"
      }
    },
    {
      "cell_type": "code",
      "execution_count": null,
      "metadata": {
        "colab": {
          "base_uri": "https://localhost:8080/"
        },
        "id": "9-BQcKWquRg1",
        "outputId": "22bcd8ae-82a3-4beb-ddd7-170daef29b5e"
      },
      "outputs": [
        {
          "output_type": "stream",
          "name": "stdout",
          "text": [
            "1\n",
            "2\n",
            "Hello\n",
            "4\n",
            "World\n",
            "Hello\n",
            "7\n",
            "8\n",
            "Hello\n",
            "World\n",
            "11\n",
            "Hello\n",
            "13\n",
            "14\n",
            "HelloWorld\n",
            "16\n",
            "17\n",
            "Hello\n",
            "19\n",
            "World\n",
            "Hello\n",
            "22\n",
            "23\n",
            "Hello\n",
            "World\n",
            "26\n",
            "Hello\n",
            "28\n",
            "29\n",
            "HelloWorld\n",
            "31\n",
            "32\n",
            "Hello\n",
            "34\n",
            "World\n",
            "Hello\n",
            "37\n",
            "38\n",
            "Hello\n",
            "World\n",
            "41\n",
            "Hello\n",
            "43\n",
            "44\n",
            "HelloWorld\n",
            "46\n",
            "47\n",
            "Hello\n",
            "49\n",
            "World\n",
            "Hello\n",
            "52\n",
            "53\n",
            "Hello\n",
            "World\n",
            "56\n",
            "Hello\n",
            "58\n",
            "59\n",
            "HelloWorld\n",
            "61\n",
            "62\n",
            "Hello\n",
            "64\n",
            "World\n",
            "Hello\n",
            "67\n",
            "68\n",
            "Hello\n",
            "World\n",
            "71\n",
            "Hello\n",
            "73\n",
            "74\n",
            "HelloWorld\n",
            "76\n",
            "77\n",
            "Hello\n",
            "79\n",
            "World\n",
            "Hello\n",
            "82\n",
            "83\n",
            "Hello\n",
            "World\n",
            "86\n",
            "Hello\n",
            "88\n",
            "89\n",
            "HelloWorld\n",
            "91\n",
            "92\n",
            "Hello\n",
            "94\n",
            "World\n",
            "Hello\n",
            "97\n",
            "98\n",
            "Hello\n",
            "World\n"
          ]
        }
      ],
      "source": [
        "for i in range(1,101):\n",
        "  if i % 15 == 0:\n",
        "    print(\"HelloWorld\")\n",
        "  elif i % 5 == 0:\n",
        "    print(\"World\")\n",
        "  elif i % 3 == 0:\n",
        "    print(\"Hello\")\n",
        "  else : \n",
        "    print(i)\n"
      ]
    },
    {
      "cell_type": "markdown",
      "source": [
        "b)"
      ],
      "metadata": {
        "id": "867EBS4QwJOI"
      }
    },
    {
      "cell_type": "code",
      "source": [
        "lists = []\n",
        "for i in range(1,101):\n",
        "  \n",
        "  if i % 15 == 0:\n",
        "    lists.append(\"PythonWorks\")    \n",
        "  elif i % 5 == 0:\n",
        "    lists.append(\"Works\")   \n",
        "  elif i % 3 == 0:\n",
        "    lists.append(\"Python\")   \n",
        "  else : \n",
        "    lists.append(i)   \n",
        "\n",
        "tuple1 = tuple(lists)\n",
        "print(tuple1)\n"
      ],
      "metadata": {
        "colab": {
          "base_uri": "https://localhost:8080/"
        },
        "id": "MeR4rAADQyzL",
        "outputId": "cf55cc83-04b9-4ac4-cfed-a81a3c5cf0e6"
      },
      "execution_count": null,
      "outputs": [
        {
          "output_type": "stream",
          "name": "stdout",
          "text": [
            "(1, 2, 'Python', 4, 'Works', 'Python', 7, 8, 'Python', 'Works', 11, 'Python', 13, 14, 'PythonWorks', 16, 17, 'Python', 19, 'Works', 'Python', 22, 23, 'Python', 'Works', 26, 'Python', 28, 29, 'PythonWorks', 31, 32, 'Python', 34, 'Works', 'Python', 37, 38, 'Python', 'Works', 41, 'Python', 43, 44, 'PythonWorks', 46, 47, 'Python', 49, 'Works', 'Python', 52, 53, 'Python', 'Works', 56, 'Python', 58, 59, 'PythonWorks', 61, 62, 'Python', 64, 'Works', 'Python', 67, 68, 'Python', 'Works', 71, 'Python', 73, 74, 'PythonWorks', 76, 77, 'Python', 79, 'Works', 'Python', 82, 83, 'Python', 'Works', 86, 'Python', 88, 89, 'PythonWorks', 91, 92, 'Python', 94, 'Works', 'Python', 97, 98, 'Python', 'Works')\n"
          ]
        }
      ]
    },
    {
      "cell_type": "markdown",
      "source": [
        "# **Ecercise 2 : The swap**"
      ],
      "metadata": {
        "id": "FGvzpfZgwa6m"
      }
    },
    {
      "cell_type": "code",
      "source": [
        "a , b = input().split(' , ')\n",
        "a , b = b , a\n",
        "print(\"swaped a: \" + a , \"swaped b: \"+ b)"
      ],
      "metadata": {
        "colab": {
          "base_uri": "https://localhost:8080/"
        },
        "id": "Rd6dL0e6wPSc",
        "outputId": "4d74aa2f-5b4d-45f2-cebf-4fe7e79e5c6e"
      },
      "execution_count": null,
      "outputs": [
        {
          "output_type": "stream",
          "name": "stdout",
          "text": [
            "3 , 10\n",
            "swaped a: 10 swaped b: 3\n"
          ]
        }
      ]
    },
    {
      "cell_type": "markdown",
      "source": [
        "# **Exercise 3: Computing the distance**"
      ],
      "metadata": {
        "id": "8tMxrgwXyCzz"
      }
    },
    {
      "cell_type": "code",
      "source": [
        "import math\n",
        "\n",
        "u = tuple(input(\"first point : \").split())\n",
        "v = tuple(input(\"first point : \").split())\n",
        "\n",
        "def Eucldis(u , v):\n",
        "  distance = math.sqrt((float(u[0])- float(v[0]))**2 +(float(u[1])- float(v[1]))**2)\n",
        "  return(distance)\n",
        "\n",
        "print(Eucldis(u,v))\n",
        " \n",
        "\n"
      ],
      "metadata": {
        "colab": {
          "base_uri": "https://localhost:8080/"
        },
        "id": "5sOD6iDOyw-S",
        "outputId": "96da5fc8-f781-4c33-a77d-060f0b6746d0"
      },
      "execution_count": null,
      "outputs": [
        {
          "output_type": "stream",
          "name": "stdout",
          "text": [
            "first point : 0 3\n",
            "first point : 4 0\n",
            "5.0\n"
          ]
        }
      ]
    },
    {
      "cell_type": "markdown",
      "source": [
        "# **Exercise 4**"
      ],
      "metadata": {
        "id": "vOPRwTgq23Aj"
      }
    },
    {
      "cell_type": "code",
      "source": [
        "s1 = \"Write a program that prints the numbers from 1 to 100. \\\n",
        "But for multiples of three print Hello instead of the number and for the multiples of five print World. \\\n",
        "For numbers which are multiples of both three and five print HelloWorld.\"\n",
        "s2 = \"The quick brown fox jumps over the lazy dog\" \n",
        "\n",
        "def frequency(strings):\n",
        "  frequencys= {}\n",
        "  for i in strings:\n",
        "    if i in frequencys:\n",
        "        frequencys[i] += 1\n",
        "    else:\n",
        "        frequencys[i] = 1\n",
        "  return(frequencys)\n",
        "  \n",
        "# printing result \n",
        "print (\"s1 :\\n \" , frequency(s1))\n",
        "\n",
        "  \n",
        "# printing result \n",
        "print (\"s2 :\\n \" , frequency(s2))"
      ],
      "metadata": {
        "colab": {
          "base_uri": "https://localhost:8080/"
        },
        "id": "qnibwImo1lhd",
        "outputId": "1ba93db5-ea52-45fc-cf02-4efa526a8e26"
      },
      "execution_count": null,
      "outputs": [
        {
          "output_type": "stream",
          "name": "stdout",
          "text": [
            "s1 :\n",
            "  {'W': 3, 'r': 19, 'i': 12, 't': 19, 'e': 20, ' ': 41, 'a': 7, 'p': 8, 'o': 15, 'g': 1, 'm': 8, 'h': 9, 'n': 10, 's': 7, 'u': 7, 'b': 4, 'f': 9, '1': 2, '0': 2, '.': 3, 'B': 1, 'l': 12, 'H': 2, 'd': 5, 'v': 2, 'F': 1, 'w': 1, 'c': 1}\n",
            "s2 :\n",
            "  {'T': 1, 'h': 2, 'e': 3, ' ': 8, 'q': 1, 'u': 2, 'i': 1, 'c': 1, 'k': 1, 'b': 1, 'r': 2, 'o': 4, 'w': 1, 'n': 1, 'f': 1, 'x': 1, 'j': 1, 'm': 1, 'p': 1, 's': 1, 'v': 1, 't': 1, 'l': 1, 'a': 1, 'z': 1, 'y': 1, 'd': 1, 'g': 1}\n"
          ]
        }
      ]
    },
    {
      "cell_type": "markdown",
      "source": [
        "# **Exercise 5**"
      ],
      "metadata": {
        "id": "iTAH5NeqvaCx"
      }
    },
    {
      "cell_type": "code",
      "source": [
        "count = 0\n",
        "listUnique = []\n",
        "listRepeat = []\n",
        "\n",
        "listl = [36, 45, 58, 3, 74, 96, 64, 45, 31, 10, 24, 19, 33, 86, 99, 18, 63, 70, 85,\n",
        " 85, 63, 47, 56, 42, 70, 84, 88, 55, 20, 54, 8, 56, 51, 79, 81, 57, 37, 91,\n",
        " 1, 84, 84, 36, 66, 9, 89, 50, 42, 91, 50, 95, 90, 98, 39, 16, 82, 31, 92, 41,\n",
        " 45, 30, 66, 70, 34, 85, 94, 5, 3, 36, 72, 91, 84, 34, 87, 75, 53, 51, 20, 89, 51, 20]\n",
        "\n",
        "for i in listl:\n",
        "  \n",
        "  if i in listUnique:\n",
        "    listUnique.remove(i)\n",
        "    listRepeat.append(i)\n",
        "    count -= 1\n",
        "\n",
        "  if i in listRepeat:\n",
        "    continue\n",
        "\n",
        "  else:\n",
        "    listUnique.append(i)\n",
        "    count += 1 \n",
        "\n",
        "print(listUnique)\n",
        "print(count)"
      ],
      "metadata": {
        "colab": {
          "base_uri": "https://localhost:8080/"
        },
        "id": "YrmNebkpveGW",
        "outputId": "69065bc5-ed41-4161-98c2-0c3c9d2cd647"
      },
      "execution_count": null,
      "outputs": [
        {
          "output_type": "stream",
          "name": "stdout",
          "text": [
            "[58, 74, 96, 64, 10, 24, 19, 33, 86, 99, 18, 47, 88, 55, 54, 8, 79, 81, 57, 37, 1, 9, 95, 90, 98, 39, 16, 82, 92, 41, 30, 94, 5, 72, 87, 75, 53]\n",
            "37\n"
          ]
        }
      ]
    },
    {
      "cell_type": "markdown",
      "source": [
        "# **Exercise 6**"
      ],
      "metadata": {
        "id": "gRTaWz2t0MZH"
      }
    },
    {
      "cell_type": "code",
      "source": [
        "x , y = input().split(',')\n",
        "def check_input(inputs):\n",
        "    try:   \n",
        "      val = int(inputs)\n",
        "      return int\n",
        "    except ValueError:\n",
        "      try:\n",
        "        val = float(inputs)\n",
        "        return float\n",
        "      except ValueError:\n",
        "            return str\n",
        "if check_input(x) == int and check_input(y) == int:\n",
        "  print(\"The inputs are integer and the sum is : \",int(x)+int(y))\n",
        "elif check_input(x) == float and  check_input(y) == float:\n",
        "  print(\"The inputs are float and the sum is : \",float(x)+float(y))\n",
        "elif check_input(x) ==str and check_input(y) == str:\n",
        "  print(\"The inputs are string and the concatenation is : \"+x+y)\n",
        "else :\n",
        "  print(\"Inputs have different types.\")\n",
        "\n",
        "\n",
        "\n"
      ],
      "metadata": {
        "id": "GIeyBX_n0QBS",
        "colab": {
          "base_uri": "https://localhost:8080/"
        },
        "outputId": "f11c48d5-5f18-4ab5-dbc2-6b7951ba8983"
      },
      "execution_count": null,
      "outputs": [
        {
          "output_type": "stream",
          "name": "stdout",
          "text": [
            "i,hello\n",
            "The inputs are string and the comcatenation is : ihello\n"
          ]
        }
      ]
    },
    {
      "cell_type": "markdown",
      "source": [
        "# **Exercise 7**"
      ],
      "metadata": {
        "id": "ufh7bgzN0QWT"
      }
    },
    {
      "cell_type": "markdown",
      "source": [
        "a)"
      ],
      "metadata": {
        "id": "SGB3YLmw2BU0"
      }
    },
    {
      "cell_type": "code",
      "source": [
        "cubeda = []\n",
        "for i in range(0,11):\n",
        "  cubeda.append(i**3)\n",
        "print(cubeda)"
      ],
      "metadata": {
        "colab": {
          "base_uri": "https://localhost:8080/"
        },
        "id": "tM62oOAc1D5o",
        "outputId": "ceb4940b-5f00-4364-9407-db5d938bb23e"
      },
      "execution_count": null,
      "outputs": [
        {
          "output_type": "stream",
          "name": "stdout",
          "text": [
            "[0, 1, 8, 27, 64, 125, 216, 343, 512, 729, 1000]\n"
          ]
        }
      ]
    },
    {
      "cell_type": "markdown",
      "source": [
        "b)"
      ],
      "metadata": {
        "id": "cLYEvL2S1tcw"
      }
    },
    {
      "cell_type": "code",
      "source": [
        "cubedb = [x ** 3 for x in range(0, 11)]\n",
        "print(cubedb)"
      ],
      "metadata": {
        "colab": {
          "base_uri": "https://localhost:8080/"
        },
        "id": "3_gMR8hZ0pG6",
        "outputId": "92e926d6-51ff-4729-d602-8b224d7142dc"
      },
      "execution_count": null,
      "outputs": [
        {
          "output_type": "stream",
          "name": "stdout",
          "text": [
            "[0, 1, 8, 27, 64, 125, 216, 343, 512, 729, 1000]\n"
          ]
        }
      ]
    },
    {
      "cell_type": "markdown",
      "source": [
        "# **Exercise 8**"
      ],
      "metadata": {
        "id": "BPiLOMzt2PMh"
      }
    },
    {
      "cell_type": "code",
      "source": [
        "print([(i,j) for i in range(0,3) for j in range(0,4)])"
      ],
      "metadata": {
        "colab": {
          "base_uri": "https://localhost:8080/"
        },
        "id": "Y5H3inG62W8s",
        "outputId": "0495eae4-e7f3-4ac4-d3fa-29c09473226a"
      },
      "execution_count": null,
      "outputs": [
        {
          "output_type": "stream",
          "name": "stdout",
          "text": [
            "[(0, 0), (0, 1), (0, 2), (0, 3), (1, 0), (1, 1), (1, 2), (1, 3), (2, 0), (2, 1), (2, 2), (2, 3)]\n"
          ]
        }
      ]
    },
    {
      "cell_type": "markdown",
      "source": [
        "# **Exercise 9**"
      ],
      "metadata": {
        "id": "gyJk2UTC66SF"
      }
    },
    {
      "cell_type": "code",
      "source": [
        "c,x=0,2\n",
        "listT=[]\n",
        "while c < 100 :         \n",
        "        for j in range(1, x) :\n",
        "            a = x * x - j * j\n",
        "            b = 2 * x * j\n",
        "            c = x * x + j * j\n",
        "            if c > 100 :\n",
        "                break\n",
        " \n",
        "            listT.append((a,b,c))\n",
        " \n",
        "        x = x + 1\n",
        "print(listT)"
      ],
      "metadata": {
        "id": "coKs3bDy6-yf",
        "colab": {
          "base_uri": "https://localhost:8080/"
        },
        "outputId": "bbe1d8cb-0b44-486e-a639-eff33d3f2642"
      },
      "execution_count": null,
      "outputs": [
        {
          "output_type": "stream",
          "name": "stdout",
          "text": [
            "[(3, 4, 5), (8, 6, 10), (5, 12, 13), (15, 8, 17), (12, 16, 20), (7, 24, 25), (24, 10, 26), (21, 20, 29), (16, 30, 34), (9, 40, 41), (35, 12, 37), (32, 24, 40), (27, 36, 45), (20, 48, 52), (11, 60, 61), (48, 14, 50), (45, 28, 53), (40, 42, 58), (33, 56, 65), (24, 70, 74), (13, 84, 85), (63, 16, 65), (60, 32, 68), (55, 48, 73), (48, 64, 80), (39, 80, 89), (28, 96, 100)]\n"
          ]
        }
      ]
    },
    {
      "cell_type": "markdown",
      "source": [
        "# **Exercise 10**"
      ],
      "metadata": {
        "id": "hElAns6544EG"
      }
    },
    {
      "cell_type": "code",
      "source": [
        "import math\n",
        "inputlist = input().split(',')\n",
        "\n",
        "sum = 0\n",
        "for i in inputlist:\n",
        "  i = float(i)\n",
        "  sum += i**2\n",
        "\n",
        "lenvector = math.sqrt(sum)\n",
        "\n",
        "normalized = []\n",
        "\n",
        "for i in inputlist:\n",
        "  i = float(i)\n",
        "  normalized.append(i/lenvector)\n",
        "\n",
        "print(normalized)"
      ],
      "metadata": {
        "colab": {
          "base_uri": "https://localhost:8080/"
        },
        "id": "cVXkEjQQ47zu",
        "outputId": "9fa90121-48c8-4227-bb16-5e127ae8c392"
      },
      "execution_count": null,
      "outputs": [
        {
          "output_type": "stream",
          "name": "stdout",
          "text": [
            "3,4\n",
            "[0.6, 0.8]\n"
          ]
        }
      ]
    },
    {
      "cell_type": "markdown",
      "source": [
        "# **Exercise 11**"
      ],
      "metadata": {
        "id": "mLVmTdaI4Jz8"
      }
    },
    {
      "cell_type": "code",
      "source": [
        "fibonacci=[1,1]\n",
        "for i in range(0,18):\n",
        "  fibonacci.append(fibonacci[i] + fibonacci[i+1])\n",
        "\n",
        "print(fibonacci)\n"
      ],
      "metadata": {
        "colab": {
          "base_uri": "https://localhost:8080/"
        },
        "id": "w3BYxk_G4Np9",
        "outputId": "ef01e17c-2471-4f09-c810-b763e2688531"
      },
      "execution_count": null,
      "outputs": [
        {
          "output_type": "stream",
          "name": "stdout",
          "text": [
            "[1, 1, 2, 3, 5, 8, 13, 21, 34, 55, 89, 144, 233, 377, 610, 987, 1597, 2584, 4181, 6765]\n"
          ]
        }
      ]
    }
  ]
}