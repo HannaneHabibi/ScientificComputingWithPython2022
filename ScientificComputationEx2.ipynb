{
  "nbformat": 4,
  "nbformat_minor": 0,
  "metadata": {
    "colab": {
      "provenance": [],
      "authorship_tag": "ABX9TyPiW4lFYIzlLfrlHKy4tuVu"
    },
    "kernelspec": {
      "name": "python3",
      "display_name": "Python 3"
    },
    "language_info": {
      "name": "python"
    }
  },
  "cells": [
    {
      "cell_type": "markdown",
      "source": [
        "# **Exercise 1**\n",
        "Global variables\n",
        "\n"
      ],
      "metadata": {
        "id": "kyz4YyYo5fvZ"
      }
    },
    {
      "cell_type": "code",
      "execution_count": null,
      "metadata": {
        "id": "nXdfPmtFtduh",
        "colab": {
          "base_uri": "https://localhost:8080/"
        },
        "outputId": "d5d548cd-b275-4c90-ca18-c5f1eabeff50"
      },
      "outputs": [
        {
          "output_type": "stream",
          "name": "stdout",
          "text": [
            "[1, 2, 3, 0, 1, 2, 3, 4]\n",
            "[1, 2, 3]\n"
          ]
        }
      ],
      "source": [
        "def f(alist):\n",
        "  list2=alist[0:len(alist)]\n",
        "  for i in range(5):\n",
        "      list2.append(i)\n",
        "  return list2\n",
        "\n",
        "alist = [1, 2, 3]\n",
        "ans = f(alist)\n",
        "print(ans)\n",
        "print(alist) "
      ]
    },
    {
      "cell_type": "markdown",
      "source": [
        "# **Exercise 2**\n",
        "List comprehension"
      ],
      "metadata": {
        "id": "GFLyHpA25prz"
      }
    },
    {
      "cell_type": "code",
      "source": [
        "theComprehension = [x*x for x in filter(lambda x: x % 2 == 1, range(10))]\n",
        "\n",
        "print(theComprehension)"
      ],
      "metadata": {
        "id": "6002efCK578N",
        "colab": {
          "base_uri": "https://localhost:8080/"
        },
        "outputId": "eb70e85e-6108-4371-de6a-15aee4b2dfc3"
      },
      "execution_count": 1,
      "outputs": [
        {
          "output_type": "stream",
          "name": "stdout",
          "text": [
            "[1, 9, 25, 49, 81]\n"
          ]
        }
      ]
    },
    {
      "cell_type": "markdown",
      "source": [
        "# **Exercie 3**"
      ],
      "metadata": {
        "id": "YbFSboivYkiU"
      }
    },
    {
      "cell_type": "code",
      "source": [
        "number = int(input())\n",
        "listin = input().split(' ')\n",
        "def filterlongword(elementoflist):\n",
        "  return len(elementoflist) <= number\n",
        "print(list(filter(filterlongword,listin)))"
      ],
      "metadata": {
        "colab": {
          "base_uri": "https://localhost:8080/"
        },
        "id": "9wnQPcQKYnue",
        "outputId": "0ec28fbf-07ac-4023-c627-f196b876b29f"
      },
      "execution_count": null,
      "outputs": [
        {
          "output_type": "stream",
          "name": "stdout",
          "text": [
            "3\n",
            "kjnkjn hg\n",
            "['hg']\n"
          ]
        }
      ]
    },
    {
      "cell_type": "markdown",
      "source": [
        "# **Exercise 4**"
      ],
      "metadata": {
        "id": "-_1MpHvKaanm"
      }
    },
    {
      "cell_type": "code",
      "source": [
        "lang = {\"Python\" : 3, \"Java\" : '', \"Cplusplus\" : 'test', \"Php\" : 0.7}\n",
        "\n",
        "def Keysofdictionary(dictionary):\n",
        "  return list(map(len,dictionary.keys()))\n",
        "\n",
        "print(Keysofdictionary(lang))"
      ],
      "metadata": {
        "colab": {
          "base_uri": "https://localhost:8080/"
        },
        "id": "Q4hUKwC_aeJp",
        "outputId": "586bd7f1-0d8a-44e0-f6ba-cd5a95673aa1"
      },
      "execution_count": null,
      "outputs": [
        {
          "output_type": "stream",
          "name": "stdout",
          "text": [
            "[6, 4, 9, 3]\n"
          ]
        }
      ]
    },
    {
      "cell_type": "markdown",
      "source": [
        "# **Exercise 5**"
      ],
      "metadata": {
        "id": "Q9RfLvAmb8Gr"
      }
    },
    {
      "cell_type": "code",
      "source": [
        "language_scores = [('Python', 97), ('Cplusplus', 81), ('Php', 45), ('Java', 32)]\n",
        "language_scores.sort(key=lambda x:x[0])\n",
        "print(language_scores)\n"
      ],
      "metadata": {
        "colab": {
          "base_uri": "https://localhost:8080/"
        },
        "id": "UE0d1eJVb_ja",
        "outputId": "c4679e04-3a47-4366-a890-3e3e0eb18fbe"
      },
      "execution_count": null,
      "outputs": [
        {
          "output_type": "stream",
          "name": "stdout",
          "text": [
            "[('Cplusplus', 81), ('Java', 32), ('Php', 45), ('Python', 97)]\n"
          ]
        }
      ]
    },
    {
      "cell_type": "markdown",
      "source": [
        "# **Exercise 6**"
      ],
      "metadata": {
        "id": "83WH-g8Xdxpd"
      }
    },
    {
      "cell_type": "code",
      "source": [
        "def Squarenum(number):\n",
        "  return number**2\n",
        "def Cubenum(number):\n",
        "  return number**3\n",
        "def Six(number):\n",
        "  return(Cubenum(Squarenum(number)))\n",
        "num = int(input())\n",
        "print(Six(num))"
      ],
      "metadata": {
        "colab": {
          "base_uri": "https://localhost:8080/"
        },
        "id": "KZTMiNOXd-gl",
        "outputId": "3432d817-af26-454f-9806-79bfb7e196ce"
      },
      "execution_count": null,
      "outputs": [
        {
          "output_type": "stream",
          "name": "stdout",
          "text": [
            "3\n",
            "729\n"
          ]
        }
      ]
    },
    {
      "cell_type": "markdown",
      "source": [
        "# **Exercise 7**"
      ],
      "metadata": {
        "id": "PQIKrP5yerQb"
      }
    },
    {
      "cell_type": "code",
      "source": [
        "def hello(func):\n",
        "    def wrapper(*args):\n",
        "      print(\"Hello world!\")\n",
        "      return func(*args) \n",
        "    return wrapper\n",
        "\n",
        "@hello\n",
        "def square(x):\n",
        "    return x*x\n",
        "\n",
        "num = int(input())\n",
        "print(square(num))"
      ],
      "metadata": {
        "colab": {
          "base_uri": "https://localhost:8080/"
        },
        "id": "sZ63rMtOexDI",
        "outputId": "300418a2-f106-4445-aa2e-10552fc27adc"
      },
      "execution_count": null,
      "outputs": [
        {
          "output_type": "stream",
          "name": "stdout",
          "text": [
            "4\n",
            "Hello world!\n",
            "16\n"
          ]
        }
      ]
    },
    {
      "cell_type": "markdown",
      "source": [
        "# **Exercise 8**"
      ],
      "metadata": {
        "id": "zH5qd96Hgnby"
      }
    },
    {
      "cell_type": "code",
      "source": [
        "def fibonacci(n):\n",
        "    if(n <= 1):\n",
        "        return n\n",
        "    else:\n",
        "        return(fibonacci(n-1) + fibonacci(n-2))\n",
        "\n",
        "\n",
        "for i in range(1,21):\n",
        "    print(fibonacci(i))"
      ],
      "metadata": {
        "id": "vVmlelNTgqJY",
        "colab": {
          "base_uri": "https://localhost:8080/"
        },
        "outputId": "a05e299b-11fa-461b-c75e-e29910de575f"
      },
      "execution_count": null,
      "outputs": [
        {
          "output_type": "stream",
          "name": "stdout",
          "text": [
            "1\n",
            "1\n",
            "2\n",
            "3\n",
            "5\n",
            "8\n",
            "13\n",
            "21\n",
            "34\n",
            "55\n",
            "89\n",
            "144\n",
            "233\n",
            "377\n",
            "610\n",
            "987\n",
            "1597\n",
            "2584\n",
            "4181\n",
            "6765\n"
          ]
        }
      ]
    },
    {
      "cell_type": "markdown",
      "source": [
        "# **Exercise 9**"
      ],
      "metadata": {
        "id": "RK1jdKL3h489"
      }
    },
    {
      "cell_type": "code",
      "source": [
        "import timeit\n",
        "def loopFibonacci(n):\n",
        "  fibonacci=[1,1]\n",
        "  for i in range(0,n-2):\n",
        "    fibonacci.append(fibonacci[i] + fibonacci[i+1])\n",
        "  return fibonacci\n",
        "\n",
        "def recursiveFibonacci(n):\n",
        "    if(n <= 1):\n",
        "        return n\n",
        "    else:\n",
        "        return(recursiveFibonacci(n-1) + recursiveFibonacci(n-2))\n",
        "\n",
        "\n",
        "\n",
        "%timeit loopFibonacci(20)\n",
        "\n",
        "%timeit recursiveFibonacci(20)"
      ],
      "metadata": {
        "colab": {
          "base_uri": "https://localhost:8080/"
        },
        "id": "eMgsc3tWh8Co",
        "outputId": "bc530615-4d15-4a98-c507-3fb845c66e13"
      },
      "execution_count": null,
      "outputs": [
        {
          "output_type": "stream",
          "name": "stdout",
          "text": [
            "2.44 µs ± 42.6 ns per loop (mean ± std. dev. of 7 runs, 100000 loops each)\n",
            "1.91 ms ± 14.7 µs per loop (mean ± std. dev. of 7 runs, 1000 loops each)\n"
          ]
        }
      ]
    },
    {
      "cell_type": "markdown",
      "source": [
        "The loopFibonacci is better than recursiveFibonacci. The loopFibonacci is 2.44 microsecond with error of 42.6 nanos per loop but the recursiveFibonacci is 1.91 milisecond ± 14.7 micros per loop"
      ],
      "metadata": {
        "id": "xyhtju5zjwi6"
      }
    },
    {
      "cell_type": "markdown",
      "source": [
        "# **Exercise 10**"
      ],
      "metadata": {
        "id": "kIzoTNtIlMPj"
      }
    },
    {
      "cell_type": "code",
      "source": [
        "import math\n",
        "\n",
        "class Polygon:\n",
        "    sidesofpoly = []\n",
        "    def getandset(self, inpt):\n",
        "      self.sidesofpoly = list(inpt.split(' '))\n",
        "\n",
        "    def getOrderedSides(self, increasing):\n",
        "        return sorted(self.sidesofpoly,key=lambda x:x[0], reverse =  not increasing)\n",
        " \n",
        "    def perimeter(self):\n",
        "      peri = 0\n",
        "      for i in self.sidesofpoly:\n",
        "        peri += int(i)\n",
        "      return peri\n",
        "\n",
        "poly = Polygon()\n",
        "poly.getandset('7 8 9')\n",
        "perimeterofpoly = poly.perimeter()\n",
        "orderofpoly = poly.getOrderedSides(True)\n",
        "print(\"The perimeter of a poly with sides of 7,8,9 is : \", perimeterofpoly,\n",
        "      \"\\n The sides in order are :\",orderofpoly)"
      ],
      "metadata": {
        "id": "01b1cSzQlp1G",
        "colab": {
          "base_uri": "https://localhost:8080/"
        },
        "outputId": "0a7887a9-bca0-4fd6-aaa1-a2f14d156a5f"
      },
      "execution_count": 6,
      "outputs": [
        {
          "output_type": "stream",
          "name": "stdout",
          "text": [
            "The perimeter of a poly with sides of 7,8,9 is :  24 \n",
            " The sides in order are : ['9', '8', '7']\n"
          ]
        }
      ]
    },
    {
      "cell_type": "markdown",
      "source": [
        "# **Exercise 11**"
      ],
      "metadata": {
        "id": "xhzUc2gy4jXS"
      }
    },
    {
      "cell_type": "code",
      "source": [
        "class Rectangle(Polygon):\n",
        "  isRectangle = False\n",
        "  def getandset(self, inpt):\n",
        "      self.sidesofpoly = list(inpt.split(' '))\n",
        "      if len(self.sidesofpoly) !=2:\n",
        "        print(\"The polygon is not a rectangle.\")\n",
        "      else:\n",
        "        self.isRectangle = True\n",
        "        print(\"The polygon is a rectangle.\")\n",
        "  def area(self):\n",
        "    if self.isRectangle:\n",
        "\n",
        "      print(\"The area of the rectangle is : \", (int(self.sidesofpoly[0])*int(self.sidesofpoly[1])))\n",
        "\n",
        "rect = Rectangle()\n",
        "inpt = input()\n",
        "rect.getandset(inpt)\n",
        "rect.area()\n"
      ],
      "metadata": {
        "colab": {
          "base_uri": "https://localhost:8080/"
        },
        "id": "PxcAzRYf4i7v",
        "outputId": "21c7851b-1755-4e92-b5a6-12d9049b2d21"
      },
      "execution_count": 17,
      "outputs": [
        {
          "output_type": "stream",
          "name": "stdout",
          "text": [
            "3 4\n",
            "The polygon is a rectangle.\n",
            "The area of the rectangle is :  12\n"
          ]
        }
      ]
    }
  ]
}